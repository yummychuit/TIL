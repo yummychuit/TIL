{
 "cells": [
  {
   "cell_type": "code",
   "execution_count": 2,
   "metadata": {},
   "outputs": [],
   "source": [
    "last_name = 'KIM'\n",
    "first_name = 'minjoo'"
   ]
  },
  {
   "cell_type": "code",
   "execution_count": 3,
   "metadata": {},
   "outputs": [
    {
     "data": {
      "text/plain": [
       "'KIMminjoo'"
      ]
     },
     "execution_count": 3,
     "metadata": {},
     "output_type": "execute_result"
    }
   ],
   "source": [
    "full_name = last_name + first_name\n",
    "full_name"
   ]
  },
  {
   "cell_type": "code",
   "execution_count": 3,
   "metadata": {},
   "outputs": [
    {
     "name": "stdout",
     "output_type": "stream",
     "text": [
      "14\n",
      "42.0\n"
     ]
    }
   ],
   "source": [
    "num1 = 42\n",
    "num2 = 14\n",
    "\n",
    "bigger_num = max(num1, num2)\n",
    "smaller_num = min(num1, num2)\n",
    "\n",
    "t = 1\n",
    "while t > 0:\n",
    "        t = bigger_num % smaller_num\n",
    "        bigger_num, smaller_num = smaller_num, t\n",
    "        gcd = bigger_num\n",
    "\n",
    "lcm = num1 * num2 / gcd\n",
    "\n",
    "\n",
    "# for i in range(smaller_num + 1, 0, -1):\n",
    "#     if ((num1 % i == 0) and (num2 % i == 0)):\n",
    "#         gcd = i\n",
    "#         break\n",
    "        \n",
    "# while(True):\n",
    "#         if((bigger_num % num1 == 0) and (bigger_num % num2 == 0)):\n",
    "#                 lcm = bigger_num\n",
    "#                 break\n",
    "#         bigger_num += 1\n",
    "\n",
    "\n",
    "print(gcd) \n",
    "print(lcm) \n",
    "#최대공약수\n",
    "# gcd =\n",
    "#최소공배수\n",
    "# lcm ="
   ]
  }
 ],
 "metadata": {
  "kernelspec": {
   "display_name": "Python 3",
   "language": "python",
   "name": "python3"
  },
  "language_info": {
   "codemirror_mode": {
    "name": "ipython",
    "version": 3
   },
   "file_extension": ".py",
   "mimetype": "text/x-python",
   "name": "python",
   "nbconvert_exporter": "python",
   "pygments_lexer": "ipython3",
   "version": "3.6.7"
  }
 },
 "nbformat": 4,
 "nbformat_minor": 2
}
