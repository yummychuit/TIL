{
 "cells": [
  {
   "cell_type": "markdown",
   "metadata": {},
   "source": [
    "#### 주간/주말 박스오피스 데이터\n",
    "> 최근 10주간 데이터 중에 주간 박스오피스 TOP10 데이터 수집\n",
    "* 요청 조건\n",
    "1. 주간(월~일)까지 기간의 데이터를 조회합니다.\n",
    "2. 조회기간은 총 10주이며, 기준일(마지막 일자)은 2019년 1월 13일 입니다.\n",
    "3. 다양성 영화/상업 영화를 모두 포함하여야 합니다.\n",
    "4. 한국/외국 영화를 모두 포함하여야 합니다.\n",
    "5. 모든 상영지역을 포함하여야 합니다.\n",
    "\n",
    "* 결과\n",
    "- 수집된 데이터에서 영화 대표코드, 영화명, 해당일 누적관객수, 해당일을 기록합니다.\n",
    "- 해당일 누적관객수는 중복시 최신 정보를 반영하여야 합니다.\n",
    "- 해당 결과를 boxoffice.csv에 저장합니다."
   ]
  },
  {
   "cell_type": "code",
   "execution_count": null,
   "metadata": {},
   "outputs": [],
   "source": [
    "#영화가 총 43개 나옴\n",
    "#중복되는 영화 날리기\n"
   ]
  },
  {
   "cell_type": "code",
   "execution_count": null,
   "metadata": {},
   "outputs": [],
   "source": [
    "#설명\n",
    "key = \n",
    "URL = f'http://www.kobis.or.kr/kobisopenapi/webservice/rest/boxoffice/searchWeeklyBoxOfficeList.json?key={key}&weekGb=0&targetDt=20190113'"
   ]
  },
  {
   "cell_type": "code",
   "execution_count": null,
   "metadata": {
    "scrolled": false
   },
   "outputs": [],
   "source": [
    "#설명\n",
    "import requests\n",
    "\n",
    "# raw_data = requests.get(URL)\n",
    "# data = raw_data.json()\n",
    "\n",
    "data = requests.get(URL).json()\n",
    "data = data['boxOfficeResult']['weeklyBoxOfficeList']"
   ]
  },
  {
   "cell_type": "code",
   "execution_count": null,
   "metadata": {
    "scrolled": true
   },
   "outputs": [],
   "source": [
    "#설명\n",
    "results = { \n",
    "    data[0]['rank']: data[0]['movieNm'],\n",
    "    data[1]['rank']: data[1]['movieNm'],\n",
    "    data[2]['rank']: data[2]['movieNm'] }\n",
    "print(results)"
   ]
  },
  {
   "cell_type": "code",
   "execution_count": null,
   "metadata": {},
   "outputs": [],
   "source": [
    "#환경변수\n",
    "bash\n",
    "$ export KOBIS_KEY=''\n",
    "$ export NAVER_CLIENT_ID=''\n",
    "$ export NAVER_CLIENT_SECRET=''\n",
    "\n",
    "python\n",
    "import os\n",
    "KOBIS_KEY = os.getenv('KOBIS_KEY')\n",
    "NAVER_CLIENT_ID = os.getenv('NAVER_CLIENT_ID')\n",
    "NAVER_CLIENT_SECRET = os.getenv('NAVER_CLIENT_SECRET')"
   ]
  },
  {
   "cell_type": "markdown",
   "metadata": {},
   "source": [
    "------------------------------------------"
   ]
  },
  {
   "cell_type": "code",
   "execution_count": null,
   "metadata": {},
   "outputs": [],
   "source": [
    "movie_code,title,audience,recorded_at\n",
    "\n",
    "대표코드 = movieCd\n",
    "영화명 = movieNm\n",
    "해당일 누적 관객수 = audiAcc\n",
    "해당일 => targetDt=20190113 ???\n",
    "\n",
    "시작일 => 11월 11일"
   ]
  },
  {
   "cell_type": "code",
   "execution_count": null,
   "metadata": {
    "scrolled": true
   },
   "outputs": [],
   "source": [
    "import requests\n",
    "\n",
    "targetDt_date = [20190113, 20190106, 20181230, 20181223, 20181216, 20181209, 20181202, 20181125, 20181118, 20181111]\n",
    "\n",
    "\n",
    "for target in targetDt_date:\n",
    "    URL = f'http://www.kobis.or.kr/kobisopenapi/webservice/rest/boxoffice/searchWeeklyBoxOfficeList.json?key={key}&weekGb=0&targetDt={target}'\n",
    "    data = requests.get(URL).json()\n",
    "    data = data['boxOfficeResult']['weeklyBoxOfficeList']\n",
    "\n",
    "print(data)"
   ]
  },
  {
   "cell_type": "code",
   "execution_count": null,
   "metadata": {},
   "outputs": [],
   "source": [
    "#날짜 내림차순?\n",
    "from datetime import datetime, timedelta\n",
    "\n",
    "def time(start_y, start_m, start_d):\n",
    "    re_list = []\n",
    "    time1 = datetime(start_y, start_m, start_d)\n",
    "    for i in range(0, -10, -1):\n",
    "        time2 = time1 + timedelta(weeks=i)\n",
    "        result = int(time2.strftime('%Y%m%d'))\n",
    "        re_list.append(result)\n",
    "    return re_list\n",
    "    \n",
    "time(2019,1,13)"
   ]
  },
  {
   "cell_type": "code",
   "execution_count": null,
   "metadata": {},
   "outputs": [],
   "source": [
    "#날짜 오름차순?\n",
    "def targetDt_date(start_y, start_m, start_d):\n",
    "    re_list = []\n",
    "    time1 = datetime(start_y, start_m, start_d)\n",
    "    for i in range(10):\n",
    "        time2 = time1 + timedelta(weeks=i)\n",
    "        result = int(time2.strftime('%Y%m%d'))\n",
    "        re_list.append(result)\n",
    "    return re_list\n",
    "print(targetDt_date(2018,11,11))"
   ]
  },
  {
   "cell_type": "code",
   "execution_count": null,
   "metadata": {
    "scrolled": false
   },
   "outputs": [],
   "source": [
    "code_list = []\n",
    "title_list = []\n",
    "audience_list = []\n",
    "result_dict = {}\n",
    "\n",
    "def raw_list(n):\n",
    "    if n == 0:\n",
    "        for target in targetDt_date:\n",
    "        URL = f'http://www.kobis.or.kr/kobisopenapi/webservice/rest/boxoffice/searchWeeklyBoxOfficeList.json?key={key}&weekGb=0&targetDt={target}'\n",
    "        data = requests.get(URL).json()\n",
    "        data = data['boxOfficeResult']['weeklyBoxOfficeList']\n",
    "\n",
    "        for ranking in range(10):\n",
    "            code_data = data[ranking]['movieCd']\n",
    "            title_data = data[ranking]['movieNm']\n",
    "            audience_data = data[ranking]['audiAcc']\n",
    "            code_list.append(code_data)\n",
    "            title_list.append(title_data)\n",
    "            audience_list.append(audience_data)\n",
    "            result_dict[code_data] = [code_data, title_data, audience_data, target]\n",
    "            return result_dict\n",
    "    else:\n",
    "        return (**raw_list(n-1), **raw_list(n))\n",
    "\n",
    "\n",
    "raw_list()"
   ]
  },
  {
   "cell_type": "code",
   "execution_count": null,
   "metadata": {},
   "outputs": [],
   "source": [
    "from IPython.display import display\n",
    "import pandas as pd\n",
    "\n",
    "\n",
    "tot_dict = { 'code_data': code_list,\n",
    "             'title_data': title_list,\n",
    "             'audience_data': audience_list,\n",
    "           }\n",
    "df = pd.DataFrame(tot_dict, columns=['code_data','title_data','audience_data'])\n",
    "df.drop_duplicates(['code_data'], keep='first')"
   ]
  },
  {
   "cell_type": "code",
   "execution_count": null,
   "metadata": {
    "scrolled": false
   },
   "outputs": [],
   "source": [
    "nes_data = ['movieCd', 'movieNm', 'audiAcc']\n",
    "raw_data = []\n",
    "for data_name in nes_data:\n",
    "    for ranking in range(10):\n",
    "        code_data = data[ranking]['movieCd']\n",
    "        title_data = data[ranking]['movieNm']\n",
    "        audience_data = data[ranking]['audiAcc']\n",
    "        raw_data += [code_data, title_data, audience_data, target]\n",
    "    \n",
    "    if code_data in raw_data:\n",
    "        \n",
    "print(raw_data)"
   ]
  },
  {
   "cell_type": "code",
   "execution_count": null,
   "metadata": {},
   "outputs": [],
   "source": [
    "import csv\n",
    "import requests\n",
    "\n",
    "total_list = open('weekly_boxoffice.csv', 'a+', encoding='utf-8', newline='')\n",
    "targetDt_date = [20190113, 20190106, 20181230, 20181223, 20181216, 20181209, 20181202, 20181125, 20181118, 20181111]\n",
    "\n",
    "w_total = csv.writer(total_list)\n",
    "tot_list = []\n",
    "for target in targetDt_date:\n",
    "    URL = f'http://www.kobis.or.kr/kobisopenapi/webservice/rest/boxoffice/searchWeeklyBoxOfficeList.json?key={key}&weekGb=0&targetDt={target}'\n",
    "    data = requests.get(URL).json()\n",
    "    data = data['boxOfficeResult']['weeklyBoxOfficeList']\n",
    "    \n",
    "    for ranking in range(10):\n",
    "        code_data = data[ranking]['movieCd']\n",
    "        title_data = data[ranking]['movieNm']\n",
    "        audience_data = data[ranking]['audiAcc']\n",
    "        tot_list = [code_data, title_data, audience_data, target]\n",
    "\n",
    "    print(tot_list)\n",
    "    \n",
    "    \n",
    "w_total.writerow([code_data, title_data, audience_data, target])\n",
    "\n",
    "total_list.close()"
   ]
  },
  {
   "cell_type": "code",
   "execution_count": null,
   "metadata": {},
   "outputs": [],
   "source": [
    "import csv\n",
    "import requests\n",
    "\n",
    "total_list = open('weekly_boxoffice.csv', 'a+', encoding='utf-8', newline='')\n",
    "targetDt_date = [20190113, 20190106, 20181230, 20181223, 20181216, 20181209, 20181202, 20181125, 20181118, 20181111]\n",
    "\n",
    "w_total = csv.writer(total_list)\n",
    "for target in targetDt_date:\n",
    "    URL = f'http://www.kobis.or.kr/kobisopenapi/webservice/rest/boxoffice/searchWeeklyBoxOfficeList.json?key={key}&weekGb=0&targetDt={target}'\n",
    "    data = requests.get(URL).json()\n",
    "    data = data['boxOfficeResult']['weeklyBoxOfficeList']\n",
    "    \n",
    "    for ranking in range(10):\n",
    "        dict_list = { 'code_data': data[ranking]['movieCd'],\n",
    "                     'title_data': data[ranking]['movieNm'],\n",
    "                     'audience_data': data[ranking]['audiAcc'],\n",
    "                     'target' = target }\n",
    "        \n",
    "        if title_data not in title_list:\n",
    "            title_list.append(title_data)\n",
    "                w_total.writerow([code_data, title_data, audience_data, target])\n",
    "                print(title_list)\n",
    "\n",
    "total_list.close()"
   ]
  },
  {
   "cell_type": "code",
   "execution_count": null,
   "metadata": {},
   "outputs": [],
   "source": [
    "import os\n",
    "import csv\n",
    "import requests\n",
    "from datetime import datetime, timedelta\n",
    "\n",
    "KOBIS_KEY = os.getenv('KOBIS_KEY')\n",
    "NAVER_CLIENT_ID = os.getenv('NAVER_CLIENT_ID')\n",
    "NAVER_CLIENT_SECRET = os.getenv('NAVER_CLIENT_SECRET')\n",
    "\n",
    "def targetDt_date(start_y, start_m, start_d):\n",
    "    re_list = []\n",
    "    time1 = datetime(start_y, start_m, start_d)\n",
    "    for i in range(10):\n",
    "        time2 = time1 + timedelta(weeks=i)\n",
    "        result = int(time2.strftime('%Y%m%d'))\n",
    "        re_list.append(result)\n",
    "    return re_list\n",
    "\n",
    "targetDt = targetDt_date(2018,11,11)\n",
    "key = KOBIS_KEY\n",
    "\n",
    "\n",
    "total_list = open('weekly_boxoffice.csv', 'a+', encoding='utf-8', newline='')\n",
    "writer = csv.writer(total_list)\n",
    "\n",
    "for target in targetDt:\n",
    "    URL = f'http://www.kobis.or.kr/kobisopenapi/webservice/rest/boxoffice/searchWeeklyBoxOfficeList.json?key={key}&weekGb=0&targetDt={target}'\n",
    "    data = requests.get(URL).json()\n",
    "    data = data['boxOfficeResult']['weeklyBoxOfficeList']\n",
    "\n",
    "    tot_dict = {}\n",
    "    for ranking in range(10):\n",
    "        code_data = data[ranking]['movieCd']\n",
    "        title_data = data[ranking]['movieNm']\n",
    "        audience_data = data[ranking]['audiAcc']\n",
    "        tot_dict[code_data] = [code_data, title_data, audience_data, target]\n",
    "        total = zip(tot_dict)\n",
    "        \n",
    "    print(total)\n",
    "# def raw_list():\n",
    "#     result_dict = {}\n",
    "#     for ranking in range(10):\n",
    "#         code_data = data[ranking]['movieCd']\n",
    "#         title_data = data[ranking]['movieNm']\n",
    "#         audience_data = data[ranking]['audiAcc']\n",
    "#         result_dict[code_data] = [code_data, title_data, audience_data, target]\n",
    "        \n",
    "# for k in result_dict():\n",
    "#     writer.writerow(k)\n",
    "# totla_list.close() \n",
    "\n",
    "\n",
    "\n"
   ]
  },
  {
   "cell_type": "markdown",
   "metadata": {},
   "source": [
    "-------------------------------------------------------------------------------"
   ]
  },
  {
   "cell_type": "code",
   "execution_count": null,
   "metadata": {},
   "outputs": [],
   "source": [
    "#final\n",
    "import os\n",
    "import csv\n",
    "import requests\n",
    "from datetime import datetime, timedelta\n",
    "\n",
    "KOBIS_KEY = os.getenv('KOBIS_KEY')\n",
    "NAVER_CLIENT_ID = os.getenv('NAVER_CLIENT_ID')\n",
    "NAVER_CLIENT_SECRET = os.getenv('NAVER_CLIENT_SECRET')\n",
    "\n",
    "def targetDt_date(start_y, start_m, start_d):\n",
    "    re_list = []\n",
    "    time1 = datetime(start_y, start_m, start_d)\n",
    "    for i in range(10):\n",
    "        time2 = time1 + timedelta(weeks=i)\n",
    "        result = int(time2.strftime('%Y%m%d'))\n",
    "        re_list.append(result)\n",
    "    return re_list\n",
    "\n",
    "def total_data():\n",
    "    targetDt = targetDt_date(2018,11,11)\n",
    "    key = KOBIS_KEY\n",
    "    \n",
    "    tot_dict = {}\n",
    "    for target in targetDt:\n",
    "        URL = f'http://www.kobis.or.kr/kobisopenapi/webservice/rest/boxoffice/searchWeeklyBoxOfficeList.json?key={key}&weekGb=0&targetDt={target}'\n",
    "        data = requests.get(URL).json()\n",
    "        data = data['boxOfficeResult']['weeklyBoxOfficeList']\n",
    "        \n",
    "        for ranking in range(10):\n",
    "            code_data = data[ranking]['movieCd']\n",
    "            title_data = data[ranking]['movieNm']\n",
    "            audience_data = data[ranking]['audiAcc']\n",
    "            tot_dict[code_data] = [code_data, title_data, audience_data, target]\n",
    "    return tot_dict\n",
    "        \n",
    "total_list = open('boxoffice.csv', 'a+', encoding='utf-8', newline='')\n",
    "writer = csv.writer(total_list)        \n",
    "final_data = total_data()\n",
    "for j in final_data.values():\n",
    "    writer.writerow(j)\n",
    "total_list.close() "
   ]
  }
 ],
 "metadata": {
  "kernelspec": {
   "display_name": "Python 3",
   "language": "python",
   "name": "python3"
  },
  "language_info": {
   "codemirror_mode": {
    "name": "ipython",
    "version": 3
   },
   "file_extension": ".py",
   "mimetype": "text/x-python",
   "name": "python",
   "nbconvert_exporter": "python",
   "pygments_lexer": "ipython3",
   "version": "3.7.1"
  }
 },
 "nbformat": 4,
 "nbformat_minor": 2
}
