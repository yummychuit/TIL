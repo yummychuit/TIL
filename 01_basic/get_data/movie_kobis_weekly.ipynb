{
 "cells": [
  {
   "cell_type": "code",
   "execution_count": 24,
   "metadata": {},
   "outputs": [],
   "source": [
    "#영화가 총 43개 나옴\n",
    "#중복되는 영화 날리기\n"
   ]
  },
  {
   "cell_type": "code",
   "execution_count": 1,
   "metadata": {},
   "outputs": [],
   "source": [
    "#설명\n",
    "key = \n",
    "URL = f'http://www.kobis.or.kr/kobisopenapi/webservice/rest/boxoffice/searchWeeklyBoxOfficeList.json?key={key}&weekGb=0&targetDt=20190113'"
   ]
  },
  {
   "cell_type": "code",
   "execution_count": 2,
   "metadata": {
    "scrolled": false
   },
   "outputs": [],
   "source": [
    "#설명\n",
    "import requests\n",
    "\n",
    "# raw_data = requests.get(URL)\n",
    "# data = raw_data.json()\n",
    "\n",
    "data = requests.get(URL).json()\n",
    "data = data['boxOfficeResult']['weeklyBoxOfficeList']"
   ]
  },
  {
   "cell_type": "code",
   "execution_count": 27,
   "metadata": {
    "scrolled": true
   },
   "outputs": [
    {
     "name": "stdout",
     "output_type": "stream",
     "text": [
      "{'1': '말모이', '2': '내안의 그놈', '3': '주먹왕 랄프 2: 인터넷 속으로'}\n"
     ]
    }
   ],
   "source": [
    "#설명\n",
    "results = { \n",
    "    data[0]['rank']: data[0]['movieNm'],\n",
    "    data[1]['rank']: data[1]['movieNm'],\n",
    "    data[2]['rank']: data[2]['movieNm'] }\n",
    "print(results)"
   ]
  },
  {
   "cell_type": "code",
   "execution_count": 7,
   "metadata": {},
   "outputs": [
    {
     "ename": "SyntaxError",
     "evalue": "invalid syntax (<ipython-input-7-6c1850674963>, line 3)",
     "output_type": "error",
     "traceback": [
      "\u001b[1;36m  File \u001b[1;32m\"<ipython-input-7-6c1850674963>\"\u001b[1;36m, line \u001b[1;32m3\u001b[0m\n\u001b[1;33m    $ export KOBIS_KEY=''\u001b[0m\n\u001b[1;37m    ^\u001b[0m\n\u001b[1;31mSyntaxError\u001b[0m\u001b[1;31m:\u001b[0m invalid syntax\n"
     ]
    }
   ],
   "source": [
    "#환경변수\n",
    "bash\n",
    "$ export KOBIS_KEY=''\n",
    "$ export NAVER_CLIENT_ID=''\n",
    "$ export NAVER_CLIENT_SECRET=''\n",
    "\n",
    "python\n",
    "import os\n",
    "os.getenv('KOBIS_KEY')\n",
    "os.getenv('NAVER_CLIENT_ID')\n",
    "os.getenv('NAVER_CLIENT_SECRET')"
   ]
  },
  {
   "cell_type": "markdown",
   "metadata": {},
   "source": [
    "------------------------------------------"
   ]
  },
  {
   "cell_type": "code",
   "execution_count": null,
   "metadata": {},
   "outputs": [],
   "source": [
    "movie_code,title,audience,recorded_at\n",
    "\n",
    "대표코드 = movieCd\n",
    "영화명 = movieNm\n",
    "해당일 누적 관객수 = audiAcc\n",
    "해당일 => targetDt=20190113 ???\n",
    "\n",
    "시작일 => 11월 11일"
   ]
  },
  {
   "cell_type": "code",
   "execution_count": 32,
   "metadata": {
    "scrolled": true
   },
   "outputs": [
    {
     "name": "stdout",
     "output_type": "stream",
     "text": [
      "[{'rnum': '1', 'rank': '1', 'rankInten': '0', 'rankOldAndNew': 'OLD', 'movieCd': '20177538', 'movieNm': '완벽한 타인', 'openDt': '2018-10-31', 'salesAmt': '14644885538', 'salesShare': '45.8', 'salesInten': '1121885627', 'salesChange': '8.3', 'salesAcc': '28553908349', 'audiCnt': '1711146', 'audiInten': '88553', 'audiChange': '5.5', 'audiAcc': '3375748', 'scrnCnt': '1325', 'showCnt': '44759'}, {'rnum': '2', 'rank': '2', 'rankInten': '0', 'rankOldAndNew': 'OLD', 'movieCd': '20185485', 'movieNm': '보헤미안 랩소디', 'openDt': '2018-10-31', 'salesAmt': '10252716988', 'salesShare': '32.1', 'salesInten': '3940138375', 'salesChange': '62.4', 'salesAcc': '16587971601', 'audiCnt': '1133842', 'audiInten': '427066', 'audiChange': '60.4', 'audiAcc': '1843165', 'scrnCnt': '1098', 'showCnt': '26495'}, {'rnum': '3', 'rank': '3', 'rankInten': '27', 'rankOldAndNew': 'OLD', 'movieCd': '20170513', 'movieNm': '동네사람들', 'openDt': '2018-11-07', 'salesAmt': '2961809462', 'salesShare': '9.3', 'salesInten': '2950658462', 'salesChange': '26460.9', 'salesAcc': '2982648462', 'audiCnt': '349542', 'audiInten': '347949', 'audiChange': '21842.4', 'audiAcc': '352215', 'scrnCnt': '731', 'showCnt': '14334'}, {'rnum': '4', 'rank': '4', 'rankInten': '7', 'rankOldAndNew': 'OLD', 'movieCd': '20181171', 'movieNm': '바울', 'openDt': '2018-10-31', 'salesAmt': '530902050', 'salesShare': '1.7', 'salesInten': '239856850', 'salesChange': '82.4', 'salesAcc': '867957850', 'audiCnt': '65953', 'audiInten': '29354', 'audiChange': '80.2', 'audiAcc': '108996', 'scrnCnt': '227', 'showCnt': '2022'}, {'rnum': '5', 'rank': '5', 'rankInten': '-2', 'rankOldAndNew': 'OLD', 'movieCd': '20174981', 'movieNm': '창궐', 'openDt': '2018-10-25', 'salesAmt': '517892150', 'salesShare': '1.6', 'salesInten': '-3347829576', 'salesChange': '-86.6', 'salesAcc': '13194934490', 'audiCnt': '64735', 'audiInten': '-449995', 'audiChange': '-87.4', 'audiAcc': '1588443', 'scrnCnt': '586', 'showCnt': '7673'}, {'rnum': '6', 'rank': '6', 'rankInten': '-1', 'rankOldAndNew': 'OLD', 'movieCd': '20010291', 'movieNm': '해리포터와 마법사의 돌', 'openDt': '2001-12-13', 'salesAmt': '524570500', 'salesShare': '1.6', 'salesInten': '-312024500', 'salesChange': '-37.3', 'salesAcc': '2279259500', 'audiCnt': '57967', 'audiInten': '-40322', 'audiChange': '-41.0', 'audiAcc': '259733', 'scrnCnt': '32', 'showCnt': '1278'}, {'rnum': '7', 'rank': '7', 'rankInten': '31', 'rankOldAndNew': 'OLD', 'movieCd': '20179006', 'movieNm': '여곡성', 'openDt': '2018-11-08', 'salesAmt': '491261300', 'salesShare': '1.5', 'salesInten': '482245300', 'salesChange': '5348.8', 'salesAcc': '500277300', 'audiCnt': '54872', 'audiInten': '53747', 'audiChange': '4777.5', 'audiAcc': '55997', 'scrnCnt': '212', 'showCnt': '3006'}, {'rnum': '8', 'rank': '8', 'rankInten': '-4', 'rankOldAndNew': 'OLD', 'movieCd': '20181404', 'movieNm': '벽 속에 숨은 마법시계', 'openDt': '2018-10-31', 'salesAmt': '326507650', 'salesShare': '1.0', 'salesInten': '-974414500', 'salesChange': '-74.9', 'salesAcc': '1629652800', 'audiCnt': '41891', 'audiInten': '-127204', 'audiChange': '-75.2', 'audiAcc': '211233', 'scrnCnt': '479', 'showCnt': '4318'}, {'rnum': '9', 'rank': '9', 'rankInten': '0', 'rankOldAndNew': 'OLD', 'movieCd': '20180523', 'movieNm': '스타 이즈 본', 'openDt': '2018-10-09', 'salesAmt': '258389800', 'salesShare': '0.8', 'salesInten': '-232335500', 'salesChange': '-47.3', 'salesAcc': '3995474850', 'audiCnt': '33777', 'audiInten': '-24398', 'audiChange': '-41.9', 'audiAcc': '458917', 'scrnCnt': '160', 'showCnt': '1471'}, {'rnum': '10', 'rank': '10', 'rankInten': '50', 'rankOldAndNew': 'OLD', 'movieCd': '20182693', 'movieNm': '구스범스: 몬스터의 역습', 'openDt': '2018-11-07', 'salesAmt': '170221500', 'salesShare': '0.5', 'salesInten': '164875500', 'salesChange': '3084.1', 'salesAcc': '175567500', 'audiCnt': '20914', 'audiInten': '20428', 'audiChange': '4203.3', 'audiAcc': '21400', 'scrnCnt': '167', 'showCnt': '2005'}]\n"
     ]
    }
   ],
   "source": [
    "import requests\n",
    "\n",
    "targetDt_date = [20190113, 20190106, 20181230, 20181223, 20181216, 20181209, 20181202, 20181125, 20181118, 20181111]\n",
    "key = \n",
    "\n",
    "for target in targetDt_date:\n",
    "    URL = f'http://www.kobis.or.kr/kobisopenapi/webservice/rest/boxoffice/searchWeeklyBoxOfficeList.json?key={key}&weekGb=0&targetDt={target}'\n",
    "    data = requests.get(URL).json()\n",
    "data = data['boxOfficeResult']['weeklyBoxOfficeList']\n",
    "\n",
    "print(data)"
   ]
  },
  {
   "cell_type": "code",
   "execution_count": 19,
   "metadata": {
    "scrolled": false
   },
   "outputs": [
    {
     "name": "stdout",
     "output_type": "stream",
     "text": [
      "20184105 말모이 1185368\n",
      "20176251 내안의 그놈 765383\n",
      "20189463 주먹왕 랄프 2: 인터넷 속으로 1342315\n",
      "20180290 아쿠아맨 4920735\n",
      "20183915 극장판 공룡메카드: 타이니소어의 섬 289873\n",
      "20185485 보헤미안 랩소디 9785643\n",
      "20184574 그린 북 99569\n",
      "20186281 범블비 1553491\n",
      "20170658 PMC: 더 벙커 1665204\n",
      "20175547 스윙키즈 1462874\n"
     ]
    }
   ],
   "source": [
    "code_list = []\n",
    "title_list = []\n",
    "audience_list = []\n",
    "\n",
    "for ranking in range(10):\n",
    "    code_data = data[ranking]['movieCd']\n",
    "    title_data = data[ranking]['movieNm']\n",
    "    audience_data = data[ranking]['audiAcc']\n",
    "    code_list.append(code_data)\n",
    "    title_list.append(title_data)\n",
    "    audience_list.append(audience_data)\n",
    "\n",
    "for i in range(10):\n",
    "    print(code_list[i], title_list[i], audience_list[i])"
   ]
  },
  {
   "cell_type": "code",
   "execution_count": 10,
   "metadata": {},
   "outputs": [
    {
     "data": {
      "text/plain": [
       "(['20184105'], ['말모이'], ['1185368'])"
      ]
     },
     "execution_count": 10,
     "metadata": {},
     "output_type": "execute_result"
    }
   ],
   "source": [
    "def make_list():\n",
    "    nes_data = [ 'movieCd', 'movieNm', 'audiAcc']\n",
    "    code_list = []\n",
    "    title_list = []\n",
    "    audience_list = []\n",
    "    \n",
    "    for ranking in range(10):\n",
    "        code_data = data[ranking]['movieCd']\n",
    "        title_data = data[ranking]['movieNm']\n",
    "        audience_data = data[ranking]['audiAcc']\n",
    "        code_list.append(code_data)\n",
    "        title_list.append(title_data)\n",
    "        audience_list.append(audience_data)\n",
    "        return (code_list, title_list, audience_list)\n",
    "    \n",
    "make_list()"
   ]
  },
  {
   "cell_type": "code",
   "execution_count": null,
   "metadata": {},
   "outputs": [
    {
     "name": "stdout",
     "output_type": "stream",
     "text": [
      "['말모이']\n",
      "['말모이']\n",
      "['내안의 그놈']\n",
      "['내안의 그놈']\n",
      "['주먹왕 랄프 2: 인터넷 속으로']\n",
      "['주먹왕 랄프 2: 인터넷 속으로']\n",
      "['아쿠아맨']\n",
      "['아쿠아맨']\n",
      "['극장판 공룡메카드: 타이니소어의 섬']\n",
      "['극장판 공룡메카드: 타이니소어의 섬']\n",
      "['보헤미안 랩소디']\n",
      "['보헤미안 랩소디']\n",
      "['그린 북']\n",
      "['그린 북']\n",
      "['범블비']\n",
      "['범블비']\n",
      "['PMC: 더 벙커']\n",
      "['PMC: 더 벙커']\n",
      "['스윙키즈']\n",
      "['스윙키즈']\n",
      "['아쿠아맨']\n",
      "['아쿠아맨']\n",
      "['주먹왕 랄프 2: 인터넷 속으로']\n",
      "['주먹왕 랄프 2: 인터넷 속으로']\n",
      "['PMC: 더 벙커']\n",
      "['PMC: 더 벙커']\n",
      "['보헤미안 랩소디']\n",
      "['보헤미안 랩소디']\n",
      "['범블비']\n",
      "['범블비']\n",
      "['스윙키즈']\n",
      "['스윙키즈']\n",
      "['점박이 한반도의 공룡2 : 새로운 낙원']\n",
      "['점박이 한반도의 공룡2 : 새로운 낙원']\n",
      "['언니']\n",
      "['언니']\n",
      "['말모이']\n",
      "['말모이']\n",
      "['그린치']\n",
      "['그린치']\n",
      "['아쿠아맨']\n",
      "['아쿠아맨']\n",
      "['범블비']\n",
      "['범블비']\n",
      "['PMC: 더 벙커']\n",
      "['PMC: 더 벙커']\n",
      "['보헤미안 랩소디']\n",
      "['보헤미안 랩소디']\n",
      "['마약왕']\n",
      "['마약왕']\n",
      "['스윙키즈']\n",
      "['스윙키즈']\n",
      "['점박이 한반도의 공룡2 : 새로운 낙원']\n",
      "['점박이 한반도의 공룡2 : 새로운 낙원']\n",
      "['그린치']\n",
      "['그린치']\n",
      "['극장판 짱구는 못말려: 아뵤! 쿵후 보이즈 ~라면 대란~']\n",
      "['극장판 짱구는 못말려: 아뵤! 쿵후 보이즈 ~라면 대란~']\n",
      "['스파이더맨: 뉴 유니버스']\n",
      "['스파이더맨: 뉴 유니버스']\n",
      "['아쿠아맨']\n",
      "['아쿠아맨']\n",
      "['마약왕']\n",
      "['마약왕']\n",
      "['스윙키즈']\n",
      "['스윙키즈']\n",
      "['보헤미안 랩소디']\n",
      "['보헤미안 랩소디']\n",
      "['그린치']\n",
      "['그린치']\n",
      "['국가부도의 날']\n",
      "['국가부도의 날']\n",
      "['스파이더맨: 뉴 유니버스']\n",
      "['스파이더맨: 뉴 유니버스']\n",
      "['도어락']\n",
      "['도어락']\n",
      "['극장판 짱구는 못말려: 아뵤! 쿵후 보이즈 ~라면 대란~']\n",
      "['극장판 짱구는 못말려: 아뵤! 쿵후 보이즈 ~라면 대란~']\n",
      "['극장판 포켓몬스터 모두의 이야기']\n",
      "['극장판 포켓몬스터 모두의 이야기']\n",
      "['보헤미안 랩소디']\n",
      "['보헤미안 랩소디']\n",
      "['국가부도의 날']\n",
      "['국가부도의 날']\n",
      "['도어락']\n",
      "['도어락']\n",
      "['스파이더맨: 뉴 유니버스']\n",
      "['스파이더맨: 뉴 유니버스']\n",
      "['호두까기 인형과 4개의 왕국']\n",
      "['호두까기 인형과 4개의 왕국']\n",
      "['부탁 하나만 들어줘']\n",
      "['부탁 하나만 들어줘']\n",
      "['스윙키즈']\n",
      "['스윙키즈']\n",
      "['모털 엔진']\n",
      "['모털 엔진']\n",
      "['런닝맨 : 풀룰루의 역습']\n",
      "['런닝맨 : 풀룰루의 역습']\n",
      "['완벽한 타인']\n",
      "['완벽한 타인']\n",
      "['국가부도의 날']\n",
      "['국가부도의 날']\n",
      "['보헤미안 랩소디']\n",
      "['보헤미안 랩소디']\n",
      "['도어락']\n",
      "['도어락']\n",
      "['호두까기 인형과 4개의 왕국']\n",
      "['호두까기 인형과 4개의 왕국']\n",
      "['모털 엔진']\n",
      "['모털 엔진']\n",
      "['런닝맨 : 풀룰루의 역습']\n",
      "['런닝맨 : 풀룰루의 역습']\n",
      "['성난황소']\n",
      "['성난황소']\n",
      "['완벽한 타인']\n",
      "['완벽한 타인']\n",
      "['후드']\n",
      "['후드']\n",
      "['신비한 동물들과 그린델왈드의 범죄']\n",
      "['신비한 동물들과 그린델왈드의 범죄']\n",
      "['국가부도의 날']\n",
      "['국가부도의 날']\n",
      "['보헤미안 랩소디']\n",
      "['보헤미안 랩소디']\n",
      "['성난황소']\n",
      "['성난황소']\n",
      "['완벽한 타인']\n",
      "['완벽한 타인']\n",
      "['후드']\n",
      "['후드']\n",
      "['신비한 동물들과 그린델왈드의 범죄']\n",
      "['신비한 동물들과 그린델왈드의 범죄']\n",
      "['베일리 어게인']\n",
      "['베일리 어게인']\n",
      "['바울']\n",
      "['바울']\n",
      "['거미줄에 걸린 소녀']\n",
      "['거미줄에 걸린 소녀']\n",
      "['투 프렌즈']\n",
      "['투 프렌즈']\n",
      "['보헤미안 랩소디']\n",
      "['보헤미안 랩소디']\n",
      "['성난황소']\n",
      "['성난황소']\n",
      "['신비한 동물들과 그린델왈드의 범죄']\n",
      "['신비한 동물들과 그린델왈드의 범죄']\n",
      "['완벽한 타인']\n",
      "['완벽한 타인']\n",
      "['번 더 스테이지: 더 무비']\n",
      "['번 더 스테이지: 더 무비']\n",
      "['베일리 어게인']\n",
      "['베일리 어게인']\n",
      "['바울']\n",
      "['바울']\n",
      "['출국']\n",
      "['출국']\n",
      "['툴리']\n",
      "['툴리']\n",
      "['너의 췌장을 먹고 싶어']\n",
      "['너의 췌장을 먹고 싶어']\n",
      "['신비한 동물들과 그린델왈드의 범죄']\n",
      "['신비한 동물들과 그린델왈드의 범죄']\n",
      "['보헤미안 랩소디']\n",
      "['보헤미안 랩소디']\n",
      "['완벽한 타인']\n",
      "['완벽한 타인']\n",
      "['번 더 스테이지: 더 무비']\n",
      "['번 더 스테이지: 더 무비']\n",
      "['동네사람들']\n",
      "['동네사람들']\n",
      "['성난황소']\n",
      "['성난황소']\n",
      "['바울']\n",
      "['바울']\n",
      "['출국']\n",
      "['출국']\n",
      "['너의 췌장을 먹고 싶어']\n",
      "['너의 췌장을 먹고 싶어']\n",
      "['해피 투게더']\n",
      "['해피 투게더']\n"
     ]
    }
   ],
   "source": [
    "import csv\n",
    "import requests\n",
    "\n",
    "total_list = open('weekly_boxoffice.csv', 'a+', encoding='utf-8', newline='')\n",
    "targetDt_date = [20190113, 20190106, 20181230, 20181223, 20181216, 20181209, 20181202, 20181125, 20181118, 20181111]\n",
    "key = \n",
    "\n",
    "w_total = csv.writer(total_list)\n",
    "for target in targetDt_date:\n",
    "    URL = f'http://www.kobis.or.kr/kobisopenapi/webservice/rest/boxoffice/searchWeeklyBoxOfficeList.json?key={key}&weekGb=0&targetDt={target}'\n",
    "    data = requests.get(URL).json()\n",
    "    data = data['boxOfficeResult']['weeklyBoxOfficeList']\n",
    "    \n",
    "    for ranking in range(10):\n",
    "        code_data = data[ranking]['movieCd']\n",
    "        title_data = data[ranking]['movieNm']\n",
    "        audience_data = data[ranking]['audiAcc']\n",
    "\n",
    "#         if title_data not in title_list:\n",
    "#             title_list.append(title_data)\n",
    "#             w_total.writerow([code_data, title_data, audience_data, target])\n",
    "#             print(title_list)\n",
    "\n",
    "total_list.close()"
   ]
  },
  {
   "cell_type": "code",
   "execution_count": null,
   "metadata": {},
   "outputs": [],
   "source": [
    "total_read = open('weekly_boxoffice.csv', 'a+', encoding='utf-8', newline='')\n",
    "\n",
    "r_total = csv.reader(total_read)\n",
    "\n",
    "for name in r_total:\n",
    "    "
   ]
  },
  {
   "cell_type": "raw",
   "metadata": {},
   "source": [
    "같은게 없으면 추가 아니면 pass\n",
    " "
   ]
  }
 ],
 "metadata": {
  "kernelspec": {
   "display_name": "Python 3",
   "language": "python",
   "name": "python3"
  },
  "language_info": {
   "codemirror_mode": {
    "name": "ipython",
    "version": 3
   },
   "file_extension": ".py",
   "mimetype": "text/x-python",
   "name": "python",
   "nbconvert_exporter": "python",
   "pygments_lexer": "ipython3",
   "version": "3.6.7"
  }
 },
 "nbformat": 4,
 "nbformat_minor": 2
}
