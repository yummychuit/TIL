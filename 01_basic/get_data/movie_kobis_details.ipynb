{
 "cells": [
  {
   "cell_type": "code",
   "execution_count": 1,
   "metadata": {},
   "outputs": [],
   "source": [
    "#장르는 하나만 뽑기\n",
    "#영화 이름에 ,가 있는 경우 replace 를 하든 strip을 하든 처리해야함 (dictwriter)\n",
    "#답안예시엔 없으나 명세엔 있으니 상영시간도 넣어줘야함\n",
    "#image가 두세개 없으니 그냥 둬도 되는데 random 이미지를 넣거나 default값을 넣어주면 됨"
   ]
  },
  {
   "cell_type": "code",
   "execution_count": null,
   "metadata": {},
   "outputs": [],
   "source": []
  }
 ],
 "metadata": {
  "kernelspec": {
   "display_name": "Python 3",
   "language": "python",
   "name": "python3"
  },
  "language_info": {
   "codemirror_mode": {
    "name": "ipython",
    "version": 3
   },
   "file_extension": ".py",
   "mimetype": "text/x-python",
   "name": "python",
   "nbconvert_exporter": "python",
   "pygments_lexer": "ipython3",
   "version": "3.6.7"
  }
 },
 "nbformat": 4,
 "nbformat_minor": 2
}
