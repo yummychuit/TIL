{
 "cells": [
  {
   "cell_type": "markdown",
   "metadata": {},
   "source": [
    " Flask에서 Dictionary 자료형을 이용하여 다음 조건을 만족하는 ‘나만의 영어 단어장’ 페이지를 만들어보세요.\n",
    "> 주소(route) /dictionary/<string:word> <br>\n",
    "페이지에 표시할 내용 예) apple은 사과"
   ]
  },
  {
   "cell_type": "code",
   "execution_count": null,
   "metadata": {},
   "outputs": [],
   "source": [
    "from flask import Flask\n",
    "\n",
    "@app.route('/dictionary/<string:word>')\n",
    "def my_dictionary(word):\n",
    "    my_dic = {\n",
    "        'apple': '사과',\n",
    "        'banana': '바나나',\n",
    "        'melon': '멜론',\n",
    "        'cherry': '체리',\n",
    "        'grapefruit': '자몽',\n",
    "        'pomegranate': '석류'\n",
    "    }\n",
    "\n",
    "    if word in my_dic:\n",
    "        return f'{word}은(는) {my_dic[word]}!!'\n",
    "    else:\n",
    "        return f'{word}은(는) 나만의 단어장에 없는 단어입니다!'"
   ]
  }
 ],
 "metadata": {
  "kernelspec": {
   "display_name": "Python 3",
   "language": "python",
   "name": "python3"
  },
  "language_info": {
   "codemirror_mode": {
    "name": "ipython",
    "version": 3
   },
   "file_extension": ".py",
   "mimetype": "text/x-python",
   "name": "python",
   "nbconvert_exporter": "python",
   "pygments_lexer": "ipython3",
   "version": "3.6.7"
  }
 },
 "nbformat": 4,
 "nbformat_minor": 2
}
