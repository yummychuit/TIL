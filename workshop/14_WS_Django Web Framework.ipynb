{
 "cells": [
  {
   "cell_type": "markdown",
   "metadata": {},
   "source": [
    "#### 이름이 first_workshop인 프로젝트를 생성해주세요"
   ]
  },
  {
   "cell_type": "code",
   "execution_count": null,
   "metadata": {},
   "outputs": [],
   "source": [
    "django-admin startproject first_workshop"
   ]
  },
  {
   "cell_type": "markdown",
   "metadata": {},
   "source": [
    "####  https://<your-server-url>/info 의 경로로 들어갔을 때 다음과 같이 반 정보를 보여주는 페이지를 만들어 주세요\n"
   ]
  },
  {
   "cell_type": "markdown",
   "metadata": {},
   "source": [
    "127.0.0.1:8000/info/\n",
    "    \n",
    "### 우리반 정보\n",
    "\n",
    "#### Teacher\n",
    "* NAME\n",
    "\n",
    "#### Student\n",
    "\n",
    "* 홍길동\n",
    "* 김길동\n",
    "* 박길동"
   ]
  },
  {
   "cell_type": "code",
   "execution_count": null,
   "metadata": {},
   "outputs": [],
   "source": [
    "- urls.py\n",
    "from django.urls import path\n",
    "from . import views\n",
    "\n",
    "urlpatterns = [\n",
    "    path('info/', view.ssafy),\n",
    "]\n",
    "\n",
    "- views.py\n",
    "from django.shortcuts import render\n",
    "\n",
    "def ssafy(request):\n",
    "    return render(request, 'ssafy.html')\n",
    "\n",
    "- ssafy.html\n",
    "<!DOCTYPE html>\n",
    "<html lang=\"en\">\n",
    "<head>\n",
    "    <meta charset=\"UTF-8\">\n",
    "    <meta name=\"viewport\" content=\"width=device-width, initial-scale=1.0\">\n",
    "    <meta http-equiv=\"X-UA-Compatible\" content=\"ie=edge\">\n",
    "    <title>\n",
    "        SSAFY\n",
    "    </title>\n",
    "</head>\n",
    "<body>\n",
    "    <h3>우리반 정보</h3><br>\n",
    "    <h4>Teacher</h4>\n",
    "    <ul>\n",
    "        <li>NAME</li>\n",
    "    </ul>\n",
    "    <h4>Student</h4>\n",
    "    <ul>\n",
    "        <li>홍길동</li>\n",
    "        <li>김길동</li>\n",
    "        <li>박길동</li>\n",
    "    </ul>\n",
    "</body>\n",
    "</html>"
   ]
  },
  {
   "cell_type": "markdown",
   "metadata": {},
   "source": [
    "#### https://<your-server-url>/student/<학생이름>의 경로로 들어갔을 때 다음과 같이 학생의 이름과 나이를 보여주는 페이지를 만들어 주세요\n"
   ]
  },
  {
   "cell_type": "markdown",
   "metadata": {},
   "source": [
    "127.0.0.1:8000/student/박길동\n",
    "\n",
    "## 이름 : 박길동\n",
    "### 나이 : 28"
   ]
  },
  {
   "cell_type": "code",
   "execution_count": null,
   "metadata": {},
   "outputs": [],
   "source": [
    "- urls.py\n",
    "from django.urls import path\n",
    "from . import views\n",
    "\n",
    "urlpatterns = [\n",
    "    path('info/', view.ssafy),\n",
    "    path('student/<name>/', view.student),\n",
    "]\n",
    "\n",
    "- views.py\n",
    "from django.shortcuts import render\n",
    "\n",
    "def ssafy(request):\n",
    "    return render(request, 'ssafy.html')\n",
    "\n",
    "def student(request, name):\n",
    "    return render(request, 'student.html', { 'name':name })\n",
    "\n",
    "- student.html\n",
    "<!DOCTYPE html>\n",
    "<html lang=\"en\">\n",
    "<head>\n",
    "    <meta charset=\"UTF-8\">\n",
    "    <meta name=\"viewport\" content=\"width=device-width, initial-scale=1.0\">\n",
    "    <meta http-equiv=\"X-UA-Compatible\" content=\"ie=edge\">\n",
    "    <title>\n",
    "        STUDENT\n",
    "    </title>\n",
    "</head>\n",
    "<body>\n",
    "    <h2>이름: {{ name }}</h2>\n",
    "    <h3>나이: {{ ㅠㅠ }}</h3>\n",
    "</body>\n",
    "</html>"
   ]
  }
 ],
 "metadata": {
  "kernelspec": {
   "display_name": "Python 3",
   "language": "python",
   "name": "python3"
  },
  "language_info": {
   "codemirror_mode": {
    "name": "ipython",
    "version": 3
   },
   "file_extension": ".py",
   "mimetype": "text/x-python",
   "name": "python",
   "nbconvert_exporter": "python",
   "pygments_lexer": "ipython3",
   "version": "3.6.7"
  }
 },
 "nbformat": 4,
 "nbformat_minor": 2
}
