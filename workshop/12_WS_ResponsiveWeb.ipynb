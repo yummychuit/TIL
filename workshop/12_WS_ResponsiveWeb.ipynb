{
 "cells": [
  {
   "cell_type": "markdown",
   "metadata": {},
   "source": [
    "#### 스마트폰, 태블릿 PC, 노트북의 가로 해상도가 다음과 같을 때, 4개의 아이템이 각각의 기기에서 아래와 같이 보이도록 Bootstrap Responsive Grid System을 이용하여 구현 하시오."
   ]
  },
  {
   "cell_type": "markdown",
   "metadata": {},
   "source": [
    "기기 | 가로 해상도 \n",
    "스마트폰 | 480px \n",
    "태블릿 PC | 800px \n",
    "노트북 | 1920px"
   ]
  },
  {
   "cell_type": "markdown",
   "metadata": {},
   "source": [
    "1. 스마트폰 \n",
    "\n",
    "1\n",
    "\n",
    "2\n",
    "\n",
    "3\n",
    "\n",
    "4"
   ]
  },
  {
   "cell_type": "markdown",
   "metadata": {},
   "source": [
    "2.태블릿pc\n",
    "\n",
    "1  2\n",
    "\n",
    "3  4"
   ]
  },
  {
   "cell_type": "markdown",
   "metadata": {},
   "source": [
    "3.노트북\n",
    "\n",
    "1 2 3 4"
   ]
  },
  {
   "cell_type": "code",
   "execution_count": null,
   "metadata": {},
   "outputs": [],
   "source": [
    "<!DOCTYPE html>\n",
    "<html lang=\"en\">\n",
    "<head>\n",
    "    <meta charset=\"UTF-8\">\n",
    "    <meta name=\"viewport\" content=\"width=device-width, initial-scale=1.0\">\n",
    "    <link rel=\"stylesheet\" href=\"https://stackpath.bootstrapcdn.com/bootstrap/4.2.1/css/bootstrap.min.css\" integrity=\"sha384-GJzZqFGwb1QTTN6wy59ffF1BuGJpLSa9DkKMp0DgiMDm4iYMj70gZWKYbI706tWS\" crossorigin=\"anonymous\">\n",
    "    <title>Bootstrap</title>\n",
    "    <style>\n",
    "        .row > div {\n",
    "            border: 1px solid black;\n",
    "            background-color: crimson;\n",
    "            border-radius: 5px;\n",
    "        }\n",
    "    </style>\n",
    "</head>\n",
    "\n",
    "<body>\n",
    "    <div class=\"container\">\n",
    "        <div class=\"row\">\n",
    "            <div class=\"col-12 col-md-6 col-lg-3 col-xl-3\">1</div>\n",
    "            <div class=\"col-12 col-md-6 col-lg-3 col-xl-3\">2</div>\n",
    "            <div class=\"col-12 col-md-6 col-lg-3 col-xl-3\">3</div>\n",
    "            <div class=\"col-12 col-md-6 col-lg-3 col-xl-3\">4</div>\n",
    "        </div>\n",
    "    </div>\n",
    "</body>\n",
    "\n",
    "</html>"
   ]
  }
 ],
 "metadata": {
  "kernelspec": {
   "display_name": "Python 3",
   "language": "python",
   "name": "python3"
  },
  "language_info": {
   "codemirror_mode": {
    "name": "ipython",
    "version": 3
   },
   "file_extension": ".py",
   "mimetype": "text/x-python",
   "name": "python",
   "nbconvert_exporter": "python",
   "pygments_lexer": "ipython3",
   "version": "3.6.7"
  }
 },
 "nbformat": 4,
 "nbformat_minor": 2
}
