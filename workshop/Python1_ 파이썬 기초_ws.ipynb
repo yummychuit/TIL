{
 "cells": [
  {
   "cell_type": "markdown",
   "metadata": {},
   "source": [
    "# DAY 1"
   ]
  },
  {
   "cell_type": "markdown",
   "metadata": {},
   "source": [
    "### WORKSHOP"
   ]
  },
  {
   "cell_type": "markdown",
   "metadata": {},
   "source": [
    "두 개의 정수 n과 m이 주어집니다. 반복문을 사용하지 않고 별(*)문자를 이용하여 가로의 길이가 n, 세로의 길이가 m인 직사각형 형태를 출력해보세요"
   ]
  },
  {
   "cell_type": "code",
   "execution_count": 1,
   "metadata": {
    "scrolled": true
   },
   "outputs": [],
   "source": [
    "#문제\n",
    "n = 5\n",
    "m = 9"
   ]
  },
  {
   "cell_type": "code",
   "execution_count": 2,
   "metadata": {},
   "outputs": [
    {
     "name": "stdout",
     "output_type": "stream",
     "text": [
      "*****\n",
      "*****\n",
      "*****\n",
      "*****\n",
      "*****\n",
      "*****\n",
      "*****\n",
      "*****\n",
      "*****\n",
      "\n"
     ]
    }
   ],
   "source": [
    "#정답\n",
    "n = 5\n",
    "m = 9\n",
    "\n",
    "h = '*' * n\n",
    "v = ( h + '\\n' ) * m\n",
    "\n",
    "print(v)"
   ]
  },
  {
   "cell_type": "code",
   "execution_count": 3,
   "metadata": {},
   "outputs": [
    {
     "name": "stdout",
     "output_type": "stream",
     "text": [
      "*****\n",
      "*****\n",
      "*****\n",
      "*****\n",
      "*****\n",
      "*****\n",
      "*****\n",
      "*****\n",
      "*****\n",
      "\n"
     ]
    }
   ],
   "source": [
    "line = '*' * n + '\\n'\n",
    "print(line * m)"
   ]
  },
  {
   "cell_type": "markdown",
   "metadata": {},
   "source": [
    "다음 딕셔너리에서 평균점수를 출력하시오."
   ]
  },
  {
   "cell_type": "code",
   "execution_count": 14,
   "metadata": {},
   "outputs": [
    {
     "name": "stdout",
     "output_type": "stream",
     "text": [
      "87.75\n"
     ]
    }
   ],
   "source": [
    "#문제\n",
    "student = { 'python': 80, 'algorithm': 99, 'django': 89, 'flask': 83 }"
   ]
  },
  {
   "cell_type": "code",
   "execution_count": 4,
   "metadata": {},
   "outputs": [
    {
     "name": "stdout",
     "output_type": "stream",
     "text": [
      "87.75\n"
     ]
    }
   ],
   "source": [
    "#정답\n",
    "student = { 'python': 80, 'algorithm': 99, 'django': 89, 'flask': 83 }\n",
    "\n",
    "values = student.values()\n",
    "\n",
    "print( sum(values) / len(values) )"
   ]
  },
  {
   "cell_type": "markdown",
   "metadata": {},
   "source": [
    "다음은 학생들의 혈액형(A, B, AB, O)에 대한 데이터이다. for문을 이용하여 각 혈액형 별 학생 수의 합계를 구하시오."
   ]
  },
  {
   "cell_type": "code",
   "execution_count": 6,
   "metadata": {},
   "outputs": [],
   "source": [
    "#문제\n",
    "blood_type = [ 'A', 'B', 'A', 'O', 'AB', 'AB', 'O', 'A', 'B', 'O', 'B', 'AB' ]"
   ]
  },
  {
   "cell_type": "code",
   "execution_count": 5,
   "metadata": {},
   "outputs": [
    {
     "name": "stdout",
     "output_type": "stream",
     "text": [
      "3 3 3 3\n"
     ]
    }
   ],
   "source": [
    "blood_type = [ 'A', 'B', 'A', 'O', 'AB', 'AB', 'O', 'A', 'B', 'O', 'B', 'AB' ]\n",
    "\n",
    "# type_value = [ blood_type.count('A'),\n",
    "# blood_type.count('B'),\n",
    "# blood_type.count('O'),\n",
    "# blood_type.count('AB')\n",
    "# ]\n",
    "\n",
    "# for i in range(0, 4, 1):\n",
    "#     print(type_value[i])\n",
    "\n",
    "\n",
    "count_a, count_b, count_o, count_ab = 0, 0, 0, 0\n",
    "\n",
    "for type in blood_type:\n",
    "    if type == 'A':\n",
    "        count_a += 1\n",
    "    elif type == 'B':\n",
    "        count_b += 1\n",
    "    elif type == 'O':\n",
    "        count_o += 1\n",
    "    elif type == 'AB':\n",
    "        count_ab += 1\n",
    "\n",
    "print(count_a, count_b, count_o, count_ab)"
   ]
  }
 ],
 "metadata": {
  "kernelspec": {
   "display_name": "Python 3",
   "language": "python",
   "name": "python3"
  },
  "language_info": {
   "codemirror_mode": {
    "name": "ipython",
    "version": 3
   },
   "file_extension": ".py",
   "mimetype": "text/x-python",
   "name": "python",
   "nbconvert_exporter": "python",
   "pygments_lexer": "ipython3",
   "version": "3.6.7"
  }
 },
 "nbformat": 4,
 "nbformat_minor": 2
}
