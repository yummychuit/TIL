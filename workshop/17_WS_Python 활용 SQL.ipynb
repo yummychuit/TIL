{
 "cells": [
  {
   "cell_type": "markdown",
   "metadata": {},
   "source": [
    "## ss3이라는 APP에서 진행하여 제출"
   ]
  },
  {
   "cell_type": "markdown",
   "metadata": {},
   "source": [
    "### 문제 자신의 반에 있는 사람들의 데이터를 저장하는 Student모델을 생성합니다. Student모델이 가져야 할 필드는 아래와 같습니다."
   ]
  },
  {
   "cell_type": "markdown",
   "metadata": {},
   "source": [
    "name(이름) : CharField \n",
    "\n",
    "email(이메일) : CharField \n",
    "\n",
    "birthday(생년월일) : dateField \n",
    "\n",
    "age(나이) : IntegerField\n"
   ]
  },
  {
   "cell_type": "code",
   "execution_count": null,
   "metadata": {},
   "outputs": [],
   "source": []
  },
  {
   "cell_type": "markdown",
   "metadata": {},
   "source": [
    "####  모델 마이그레이션 작업을 거친 후 Admin페이지에서 주변 학생들의 이름을 세명 저장합니다."
   ]
  },
  {
   "cell_type": "code",
   "execution_count": null,
   "metadata": {},
   "outputs": [],
   "source": []
  },
  {
   "cell_type": "markdown",
   "metadata": {},
   "source": [
    "#### 저장 후 Admin페이지에서 학생들의 목록을 보기 쉽게 만들기 위해서 __str__메소드를 오버라이드 하여 name이 출력되게 만듭니다."
   ]
  },
  {
   "cell_type": "code",
   "execution_count": null,
   "metadata": {},
   "outputs": [],
   "source": []
  }
 ],
 "metadata": {
  "kernelspec": {
   "display_name": "Python 3",
   "language": "python",
   "name": "python3"
  },
  "language_info": {
   "codemirror_mode": {
    "name": "ipython",
    "version": 3
   },
   "file_extension": ".py",
   "mimetype": "text/x-python",
   "name": "python",
   "nbconvert_exporter": "python",
   "pygments_lexer": "ipython3",
   "version": "3.6.7"
  }
 },
 "nbformat": 4,
 "nbformat_minor": 2
}
