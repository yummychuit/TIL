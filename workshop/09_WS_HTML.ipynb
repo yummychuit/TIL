{
 "cells": [
  {
   "cell_type": "markdown",
   "metadata": {},
   "source": [
    "1. 클릭하면 https://www.ssafy.com/ 로 이동하는 버튼을 만드시오."
   ]
  },
  {
   "cell_type": "code",
   "execution_count": null,
   "metadata": {},
   "outputs": [],
   "source": [
    "<input type=\"button\" value=\"버튼\" onClick=\"https://www.ssafy.com/\">"
   ]
  },
  {
   "cell_type": "markdown",
   "metadata": {},
   "source": [
    "2. 다음 태그에서 잘못된 부분을 찾으시오.\n",
    "\n",
    "`<img href=\"http://www.google.com/\" alt=\"GOOGLE\">`"
   ]
  },
  {
   "cell_type": "code",
   "execution_count": null,
   "metadata": {},
   "outputs": [],
   "source": [
    "<a href=\"http://www.google.com/\" alt=\"GOOGLE\"></a>"
   ]
  },
  {
   "cell_type": "markdown",
   "metadata": {},
   "source": [
    "3. 당신은 현재 Resume.html 에서 작업중이다. “내 사진” 이라는 링크를 누르면\n",
    "Image 폴더 안에 my_photo를띄워주는 a 태그 경로를 넣으시오.\n",
    ">\n",
    "\n",
    "TIL -> SSAFY -> Image -> my_photo.png\n",
    "\n",
    "             -> Budget\n",
    "             \n",
    "             -> User -> Resume.html\n",
    "             \n"
   ]
  },
  {
   "cell_type": "code",
   "execution_count": null,
   "metadata": {},
   "outputs": [],
   "source": [
    "<a href=\"./TIL/SSAFY/Image/my_photo.png\">내 사진</a>"
   ]
  }
 ],
 "metadata": {
  "kernelspec": {
   "display_name": "Python 3",
   "language": "python",
   "name": "python3"
  },
  "language_info": {
   "codemirror_mode": {
    "name": "ipython",
    "version": 3
   },
   "file_extension": ".py",
   "mimetype": "text/x-python",
   "name": "python",
   "nbconvert_exporter": "python",
   "pygments_lexer": "ipython3",
   "version": "3.6.7"
  }
 },
 "nbformat": 4,
 "nbformat_minor": 2
}
