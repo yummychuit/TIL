{
 "cells": [
  {
   "cell_type": "markdown",
   "metadata": {},
   "source": [
    "### 함수 - 이분법"
   ]
  },
  {
   "cell_type": "markdown",
   "metadata": {},
   "source": [
    "양의 정수 x를 입력 받아 제곱근의 근사값의 결과를 반환하는 함수를 작성하세요.<br>\n",
    "sqrt()사용 금지!!! (소숫점 넷째자리까지 구해서 셋째자리까지 같으면 됨)"
   ]
  },
  {
   "cell_type": "code",
   "execution_count": 2,
   "metadata": {},
   "outputs": [
    {
     "data": {
      "text/plain": [
       "1.4142"
      ]
     },
     "execution_count": 2,
     "metadata": {},
     "output_type": "execute_result"
    }
   ],
   "source": [
    "#풀었다아아아ㅠㅠㅠㅠㅠㅠㅠㅠ\n",
    "\n",
    "def sq_root(x):\n",
    "    maximum = x\n",
    "    minimum = 0    \n",
    "    while 1:\n",
    "        minimum ** 2 < x < maximum ** 2\n",
    "        middle_num = (minimum + maximum) / 2\n",
    "        if round(maximum, 5) == round(minimum, 5):\n",
    "            return round(maximum, 4)\n",
    "        elif middle_num ** 2 > x:\n",
    "            maximum = middle_num\n",
    "        elif middle_num ** 2 < x:\n",
    "            minimum = middle_num\n",
    "\n",
    "sq_root(2)"
   ]
  },
  {
   "cell_type": "code",
   "execution_count": null,
   "metadata": {},
   "outputs": [],
   "source": [
    "#설명\n",
    "\n",
    "n = 2\n",
    "min_n = 1\n",
    "max_n = 2\n",
    "\n",
    "min_n ** 2 < n < max_n ** 2\n",
    "1 < n < 2\n",
    "\n",
    "guess = (min_n + max_n) / 2 #1.5\n",
    "n > guess ** 2 # guess => 2.25\n",
    "n < guess ** 2 # 요게 맞다!\n",
    "\n",
    "max_n = guess # 1.5\n",
    "min_n ** 2 < n < max_n ** 2\n",
    "1 < n < 2.25\n",
    "\n",
    "guess = (1 + 1.5) / 2 #1.25\n",
    "\n",
    "n > guess ** 2 # guess => 1.5625 맞다!!!\n",
    "n < guess ** 2\n",
    "\n",
    "min_n = guess\n",
    "\n",
    "...\n",
    "\n",
    "round(min_n, 4) == round(max_n, 4)"
   ]
  },
  {
   "cell_type": "code",
   "execution_count": null,
   "metadata": {},
   "outputs": [],
   "source": [
    "# 풀이\n",
    "\n",
    "def my_sqrt(n):\n",
    "    minimum, maximum = 0, 1\n",
    "    \n",
    "    while 1:\n",
    "        if n == maximum ** 2:\n",
    "            return maximum\n",
    "        elif minimum ** 2 < n < maximum ** 2:\n",
    "            guess = (minimum + maximum) / 2\n",
    "            \n",
    "            if round(minimum, 5) == round(maximum, 5):\n",
    "                return round(guess, 5)\n",
    "            elif guess ** 2 > n:\n",
    "                maximum = guess\n",
    "            else:\n",
    "                minimum = guess\n",
    "        else:\n",
    "            minimum += 1\n",
    "            maximum += 1\n",
    "            \n",
    "my_sqrt(2)"
   ]
  },
  {
   "cell_type": "code",
   "execution_count": 4,
   "metadata": {},
   "outputs": [
    {
     "data": {
      "text/plain": [
       "1.41421"
      ]
     },
     "execution_count": 4,
     "metadata": {},
     "output_type": "execute_result"
    }
   ],
   "source": [
    "# 재귀 풀이\n",
    "import math\n",
    "\n",
    "def my_sqrt_r(n, minimum=0, maximum=1):\n",
    "    if n == maximum ** 2:\n",
    "        return maximum\n",
    "    elif minimum ** 2 < n < maximum ** 2:\n",
    "        guess = (minimum + maximum) / 2\n",
    "        if math.isclose(minimum, maximum):\n",
    "            return guess\n",
    "        elif guess ** 2 > n:\n",
    "            return my_sqrt_r(n, minimum, guess)\n",
    "        else:\n",
    "            return my_sqrt_r(n, guess, maximum)\n",
    "    else:\n",
    "        maximum += 1\n",
    "        minimum += 1\n",
    "        return round(my_sqrt_r(n, minimum, maximum),5)\n",
    "    \n",
    "my_sqrt_r(2)"
   ]
  }
 ],
 "metadata": {
  "kernelspec": {
   "display_name": "Python 3",
   "language": "python",
   "name": "python3"
  },
  "language_info": {
   "codemirror_mode": {
    "name": "ipython",
    "version": 3
   },
   "file_extension": ".py",
   "mimetype": "text/x-python",
   "name": "python",
   "nbconvert_exporter": "python",
   "pygments_lexer": "ipython3",
   "version": "3.6.7"
  }
 },
 "nbformat": 4,
 "nbformat_minor": 2
}
