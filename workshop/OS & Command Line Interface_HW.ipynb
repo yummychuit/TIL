{
 "cells": [
  {
   "cell_type": "markdown",
   "metadata": {},
   "source": [
    "1. True/False\n",
    "1-1. windows와 unix 계열 운영체제는 CLI(Command Line Interface) 에서 같은 명령어를 사용한다.\n",
    "1-2. 우리가 사용하는 컴퓨터는 windows이므로, unix 계열 운영체제 명령어를 학습할 필요가 없다.\n",
    "1-3. CLI는 결국 컴퓨터를 조작하기 위해 사용하는 것이다.\n",
    "1-4. CLI를 통해서 바탕화면에 새로운 파이썬파일(.py)을 생성할 수 있다."
   ]
  },
  {
   "cell_type": "code",
   "execution_count": 2,
   "metadata": {},
   "outputs": [],
   "source": [
    "# 1-1 False\n",
    "# 1-2 False\n",
    "# 1-3 True\n",
    "# 1-4 True"
   ]
  },
  {
   "cell_type": "markdown",
   "metadata": {},
   "source": [
    "2. 다음 unix 명령어들에 대하여 간략하게 기술하세요."
   ]
  },
  {
   "cell_type": "code",
   "execution_count": null,
   "metadata": {},
   "outputs": [],
   "source": [
    "2-1 ls\n",
    "unix에서 현재 위치한 폴더 내부의 파일/폴더들의 목록을 출력하는 명령어\n",
    "2-2 cd\n",
    "unix에서 특정 폴더(디렉토리)로 이동하는 명령어\n",
    "2-3 mkdir\n",
    "폴더를 생성하는 명령어\n",
    "2-4 touch\n",
    "파일을 생성하는 명령어"
   ]
  },
  {
   "cell_type": "markdown",
   "metadata": {},
   "source": [
    "3. CLI와 익숙해지게 되면, Tab 키를 매우 빈번하게 사용하게 됩니다. 그 이유는 무엇일까요? (git bash 를 켜고 cd Desk까지만 입력 후 탭 키를 눌러봅시다!)"
   ]
  },
  {
   "cell_type": "code",
   "execution_count": null,
   "metadata": {},
   "outputs": [],
   "source": [
    "3. CLI에서 Tab을 빈번하게 사용하는 이유\n",
    "부분적으로 입력한 명령어를 완성해주는 기능이 있기 때문"
   ]
  }
 ],
 "metadata": {
  "kernelspec": {
   "display_name": "Python 3",
   "language": "python",
   "name": "python3"
  },
  "language_info": {
   "codemirror_mode": {
    "name": "ipython",
    "version": 3
   },
   "file_extension": ".py",
   "mimetype": "text/x-python",
   "name": "python",
   "nbconvert_exporter": "python",
   "pygments_lexer": "ipython3",
   "version": "3.6.7"
  }
 },
 "nbformat": 4,
 "nbformat_minor": 2
}
