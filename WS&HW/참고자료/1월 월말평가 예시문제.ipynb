{
 "cells": [
  {
   "cell_type": "code",
   "execution_count": 11,
   "metadata": {},
   "outputs": [],
   "source": [
    "class Point:\n",
    "    def __init__(self, x, y):\n",
    "        self.x = int(x)\n",
    "        self.y = int(y)\n",
    "        \n",
    "class Circle:\n",
    "    def __init__(self, center, r):\n",
    "        self.center = center\n",
    "        self.r = r\n",
    "    \n",
    "    def get_area(self):\n",
    "        area = 3.14 * ( self.r ** 2 )\n",
    "        return area\n",
    "    \n",
    "    def get_perimeter(self):\n",
    "        perimeter = 3.14 * 2 * self.r\n",
    "        return perimeter\n",
    "    \n",
    "    def get_center(self):\n",
    "        center = (self.center.x, self.center.y)\n",
    "        return center\n",
    "\n",
    "    def print(self):\n",
    "        print(f'Circle: {self.get_center()}, r: {self.r}')"
   ]
  },
  {
   "cell_type": "code",
   "execution_count": 12,
   "metadata": {},
   "outputs": [
    {
     "name": "stdout",
     "output_type": "stream",
     "text": [
      "28.26\n",
      "18.84\n",
      "(0, 0)\n",
      "Circle: (0, 0), r: 3\n",
      "3.14\n",
      "6.28\n",
      "(4, 5)\n",
      "Circle: (4, 5), r: 1\n"
     ]
    }
   ],
   "source": [
    "p1 = Point(0,0)\n",
    "c1 = Circle(p1, 3)\n",
    "\n",
    "print(c1.get_area())\n",
    "print(c1.get_perimeter())\n",
    "print(c1.get_center())\n",
    "c1.print()\n",
    "\n",
    "p2 = Point(4,5)\n",
    "c2 = Circle(p2, 1)\n",
    "print(c2.get_area())\n",
    "print(c2.get_perimeter())\n",
    "print(c2.get_center())\n",
    "c2.print()"
   ]
  },
  {
   "cell_type": "code",
   "execution_count": null,
   "metadata": {},
   "outputs": [],
   "source": []
  }
 ],
 "metadata": {
  "kernelspec": {
   "display_name": "Python 3",
   "language": "python",
   "name": "python3"
  },
  "language_info": {
   "codemirror_mode": {
    "name": "ipython",
    "version": 3
   },
   "file_extension": ".py",
   "mimetype": "text/x-python",
   "name": "python",
   "nbconvert_exporter": "python",
   "pygments_lexer": "ipython3",
   "version": "3.7.1"
  }
 },
 "nbformat": 4,
 "nbformat_minor": 2
}
