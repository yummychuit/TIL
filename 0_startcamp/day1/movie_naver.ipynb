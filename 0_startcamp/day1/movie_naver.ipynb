{
 "cells": [
  {
   "cell_type": "code",
   "execution_count": null,
   "metadata": {},
   "outputs": [],
   "source": [
    "#"
   ]
  },
  {
   "cell_type": "code",
   "execution_count": 9,
   "metadata": {},
   "outputs": [],
   "source": [
    "import requests\n",
    "\n",
    "movies = ['말모이', '주먹왕 랄프', '보헤미안 랩소디']\n",
    "\n",
    "naver_uri = 'https://openapi.naver.com/v1/search/movie.json?query='\n",
    "\n",
    "client_id = \n",
    "client_secret = \n",
    "headers = { \n",
    "    'X-Naver-Client-Id': client_id, \n",
    "    'X-Naver-Client-Secret': client_secret \n",
    "}\n",
    "res = requests.get(naver_uri + movies[0], headers=headers)\n",
    "data = res.json()"
   ]
  },
  {
   "cell_type": "code",
   "execution_count": 10,
   "metadata": {
    "scrolled": false
   },
   "outputs": [
    {
     "name": "stdout",
     "output_type": "stream",
     "text": [
      "{'lastBuildDate': 'Fri, 18 Jan 2019 10:21:43 +0900', 'total': 1, 'start': 1, 'display': 1, 'items': [{'title': '<b>말모이</b>', 'link': 'https://movie.naver.com/movie/bi/mi/basic.nhn?code=167699', 'image': 'https://ssl.pstatic.net/imgmovie/mdi/mit110/1676/167699_P40_175859.jpg', 'subtitle': 'MAL·MO·E: The Secret Mission', 'pubDate': '2018', 'director': '엄유나|', 'actor': '유해진|윤계상|', 'userRating': '9.04'}]}\n"
     ]
    }
   ],
   "source": [
    "print(data)"
   ]
  },
  {
   "cell_type": "code",
   "execution_count": null,
   "metadata": {},
   "outputs": [],
   "source": [
    "data_set = request"
   ]
  },
  {
   "cell_type": "code",
   "execution_count": 14,
   "metadata": {},
   "outputs": [],
   "source": [
    "result = []\n",
    "for movie in movies:\n",
    "    data_set = requests.get(naver_uri + movie, headers=headers).json()\n",
    "    movie_info = {}\n",
    "    movie_info['name'] = data_set['items'][0]['title']\n",
    "    movie_info['link'] = data_set['items'][0]['link']\n",
    "    movie_info['image'] = data_set['items'][0]['image']\n",
    "    result.append(movie_info)"
   ]
  },
  {
   "cell_type": "code",
   "execution_count": 15,
   "metadata": {
    "scrolled": true
   },
   "outputs": [
    {
     "data": {
      "text/plain": [
       "[{'name': '<b>말모이</b>',\n",
       "  'link': 'https://movie.naver.com/movie/bi/mi/basic.nhn?code=167699',\n",
       "  'image': 'https://ssl.pstatic.net/imgmovie/mdi/mit110/1676/167699_P40_175859.jpg'},\n",
       " {'name': '<b>주먹왕 랄프</b> 2: 인터넷 속으로',\n",
       "  'link': 'https://movie.naver.com/movie/bi/mi/basic.nhn?code=152632',\n",
       "  'image': 'https://ssl.pstatic.net/imgmovie/mdi/mit110/1526/152632_P19_104759.jpg'},\n",
       " {'name': '<b>보헤미안 랩소디</b>',\n",
       "  'link': 'https://movie.naver.com/movie/bi/mi/basic.nhn?code=156464',\n",
       "  'image': 'https://ssl.pstatic.net/imgmovie/mdi/mit110/1564/156464_P49_182103.jpg'}]"
      ]
     },
     "execution_count": 15,
     "metadata": {},
     "output_type": "execute_result"
    }
   ],
   "source": [
    "result"
   ]
  }
 ],
 "metadata": {
  "kernelspec": {
   "display_name": "Python 3",
   "language": "python",
   "name": "python3"
  },
  "language_info": {
   "codemirror_mode": {
    "name": "ipython",
    "version": 3
   },
   "file_extension": ".py",
   "mimetype": "text/x-python",
   "name": "python",
   "nbconvert_exporter": "python",
   "pygments_lexer": "ipython3",
   "version": "3.6.7"
  }
 },
 "nbformat": 4,
 "nbformat_minor": 2
}
