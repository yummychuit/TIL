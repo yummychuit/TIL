{
 "cells": [
  {
   "cell_type": "code",
   "execution_count": 51,
   "metadata": {},
   "outputs": [
    {
     "data": {
      "text/plain": [
       "'124404'"
      ]
     },
     "execution_count": 51,
     "metadata": {},
     "output_type": "execute_result"
    }
   ],
   "source": [
    "from datetime import datetime\n",
    "\n",
    "time = datetime.now()\n",
    "time.strftime('%H%M%S')"
   ]
  },
  {
   "cell_type": "code",
   "execution_count": 56,
   "metadata": {},
   "outputs": [],
   "source": [
    "class Point:\n",
    "    def __init__(self, x, y):\n",
    "        (self.x, self.y) = (int(x), int(y))       \n",
    "        \n",
    "class Circle:\n",
    "    def __init__(self, center, r):\n",
    "        self.center = center\n",
    "        self.r = r\n",
    "        \n",
    "    def get_area(self):\n",
    "        area = 3.14 * (self.r ** 2)\n",
    "        return area\n",
    "    \n",
    "    def get_perimeter(self):\n",
    "        perimeter = 3.14 * 2 * self.r\n",
    "        return perimeter\n",
    "    \n",
    "    def get_center(self):\n",
    "        return self.center.x, self.center.y\n",
    "        \n",
    "    def print(self):\n",
    "        print(f'Circle: {self.get_center()}, r: {self.r}')\n"
   ]
  },
  {
   "cell_type": "code",
   "execution_count": 57,
   "metadata": {
    "scrolled": true
   },
   "outputs": [
    {
     "name": "stdout",
     "output_type": "stream",
     "text": [
      "28.26\n",
      "18.84\n",
      "(0, 0)\n",
      "Circle: (0, 0), r: 3\n",
      "3.14\n",
      "6.28\n",
      "(4, 5)\n",
      "Circle: (4, 5), r: 1\n"
     ]
    }
   ],
   "source": [
    "p1 = Point(0,0)\n",
    "c1 = Circle(p1, 3)\n",
    "print(c1.get_area())\n",
    "print(c1.get_perimeter())\n",
    "print(c1.get_center())\n",
    "c1.print()\n",
    "p2 = Point(4, 5)\n",
    "c2 = Circle(p2, 1)\n",
    "print(c2.get_area())\n",
    "print(c2.get_perimeter())\n",
    "print(c2.get_center())\n",
    "c2.print()"
   ]
  }
 ],
 "metadata": {
  "kernelspec": {
   "display_name": "Python 3",
   "language": "python",
   "name": "python3"
  },
  "language_info": {
   "codemirror_mode": {
    "name": "ipython",
    "version": 3
   },
   "file_extension": ".py",
   "mimetype": "text/x-python",
   "name": "python",
   "nbconvert_exporter": "python",
   "pygments_lexer": "ipython3",
   "version": "3.6.7"
  }
 },
 "nbformat": 4,
 "nbformat_minor": 2
}
