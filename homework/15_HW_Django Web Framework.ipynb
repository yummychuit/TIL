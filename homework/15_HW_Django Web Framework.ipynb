{
 "cells": [
  {
   "cell_type": "markdown",
   "metadata": {},
   "source": [
    "#### 1. 우리가 사용하는 SQLite 는 RDBMS 에 속한다. RDBMS 의 특징을 2가지만 작성하 세요."
   ]
  },
  {
   "cell_type": "code",
   "execution_count": null,
   "metadata": {},
   "outputs": [],
   "source": [
    "1. SQL을 사용하여 데이터를 관리한다.\n",
    "2. 모든 데이터를 2차원 테이블로 표현한다.\n",
    "3. 특정 패턴에 맞춰 데이터를 쉽게 추출할 수 있다."
   ]
  },
  {
   "cell_type": "markdown",
   "metadata": {},
   "source": [
    "#### 2. True False \n",
    "\n",
    "2.1. 모든 RDBMS를 조작하기 위해서는 SQL 문을 사용한다. [ ] \n",
    "\n",
    "2.2. SQL 에서 명령어는 대문자로 써야만 동작한다. [ ] \n",
    "\n",
    "2.3. 일반적인 SQL 문에서 명령어는 세미콜론(;) 으로 끝난다. [ ] \n",
    "\n",
    "2.4. SQLite 에서 dot(.) 으로 시작하는 명령어는 SQL 이 아니다.[ ] \n",
    "\n",
    "2.5. 한개의 DB 에는 한개의 테이블만 존재한다.\n"
   ]
  },
  {
   "cell_type": "code",
   "execution_count": null,
   "metadata": {},
   "outputs": [],
   "source": [
    "2.1 T\n",
    "2.2 F\n",
    "2.3 T\n",
    "2.4 T\n",
    "2.5 F"
   ]
  },
  {
   "cell_type": "markdown",
   "metadata": {},
   "source": [
    "#### 3. 다음 코드의 실행결과로 나타나는 값을 작성하세요.\n",
    "```\n",
    "sqlite> .nulvalue\"NULL\"\n",
    "sqlite> CREATE TABLE ssafy (\n",
    "    …> id INTEGER, \n",
    "    …> location TEXT, \n",
    "    …> class INTEGER \n",
    "    …> ); \n",
    "sqlite> INSERT INTO ssafy (id, location) \n",
    "    …> VALUES (1, ‘JEJU’); \n",
    "sqlite> SELECT class FROM ssafy WHERE id=1;\n",
    "```"
   ]
  },
  {
   "cell_type": "code",
   "execution_count": null,
   "metadata": {},
   "outputs": [],
   "source": [
    "NULL"
   ]
  }
 ],
 "metadata": {
  "kernelspec": {
   "display_name": "Python 3",
   "language": "python",
   "name": "python3"
  },
  "language_info": {
   "codemirror_mode": {
    "name": "ipython",
    "version": 3
   },
   "file_extension": ".py",
   "mimetype": "text/x-python",
   "name": "python",
   "nbconvert_exporter": "python",
   "pygments_lexer": "ipython3",
   "version": "3.6.7"
  }
 },
 "nbformat": 4,
 "nbformat_minor": 2
}
