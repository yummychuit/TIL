{
 "cells": [
  {
   "cell_type": "markdown",
   "metadata": {},
   "source": [
    "#### 1. 반응형 웹 디자인이란 하나의 웹사이트에서 PC, 스마트폰, 태블릿 PC 등 접속하는 _____(a)_____에 따라 가로 폭이나 배치를 변경하여 가독성을 높이도록 하는 웹페이지 접근 기법이다. 여기서 (a)에 들어갈 말을 작 성하시오.\n"
   ]
  },
  {
   "cell_type": "code",
   "execution_count": null,
   "metadata": {},
   "outputs": [],
   "source": [
    "디스플레이의 종류"
   ]
  },
  {
   "cell_type": "markdown",
   "metadata": {},
   "source": [
    "#### 2. 모바일 디바이스에서 반응형 웹이 정상적으로 동작하기 위해서는 head tag 내부에 특정 meta tag를 정의 하여야 한다. 여기서 말하는 meta tag의 가장 일반적인 형태를 작성하시오.\n"
   ]
  },
  {
   "cell_type": "code",
   "execution_count": null,
   "metadata": {},
   "outputs": [],
   "source": [
    "<meta name=\"viewport\" content=\"width=device-width, inital-scale=1,\n",
    "minimum-scale=1, maximum-scale=1, user-scalable=no\">"
   ]
  },
  {
   "cell_type": "markdown",
   "metadata": {},
   "source": [
    "#### 3. Bootstrap에서는 총 5개의 반응형 그룹으로 나누어 화면 크기별로 다른 Layout이 표시된다. 여기서 말하는 5개의 그룹을 구분 짓는 화면 크기의 가로 해상도 4가지를 px단위로 작성하시오.\n"
   ]
  },
  {
   "cell_type": "code",
   "execution_count": null,
   "metadata": {},
   "outputs": [],
   "source": [
    "Extra small <576px\n",
    "Small >= 576px\n",
    "Medium >= 768px\n",
    "Large >=992px\n",
    "Extra large >=1200px\n",
    "\n",
    "576px, 768px, 992px, 1200px"
   ]
  }
 ],
 "metadata": {
  "kernelspec": {
   "display_name": "Python 3",
   "language": "python",
   "name": "python3"
  },
  "language_info": {
   "codemirror_mode": {
    "name": "ipython",
    "version": 3
   },
   "file_extension": ".py",
   "mimetype": "text/x-python",
   "name": "python",
   "nbconvert_exporter": "python",
   "pygments_lexer": "ipython3",
   "version": "3.6.7"
  }
 },
 "nbformat": 4,
 "nbformat_minor": 2
}
