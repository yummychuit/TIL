{
 "cells": [
  {
   "cell_type": "markdown",
   "metadata": {},
   "source": [
    "#### 1. CSS은 무엇의 약자인가?\n",
    "1) Creative Style Sheets\n",
    "\n",
    "2) Cascading Style Sheets\n",
    "\n",
    "3) Computer Style Sheets\n",
    "\n",
    "4) Colorful Style Sheets"
   ]
  },
  {
   "cell_type": "code",
   "execution_count": null,
   "metadata": {},
   "outputs": [],
   "source": []
  },
  {
   "cell_type": "markdown",
   "metadata": {},
   "source": [
    "#### 2. 다음 중 맞으면T, 틀리면 F를 기입하시오.\n",
    "- HTML과 CSS는 각자 문법을 갖는 별개의 언어이다.\n",
    "\n",
    "- 웹 브라우저는 내장 기본 스타일이 있어 CSS가 없어도 작동한다.\n",
    "\n",
    "- 자식요소 프로퍼티는 부모의 프로퍼티를 모두 상속 받는다."
   ]
  },
  {
   "cell_type": "code",
   "execution_count": null,
   "metadata": {},
   "outputs": [],
   "source": []
  },
  {
   "cell_type": "markdown",
   "metadata": {},
   "source": [
    "#### 3. 크기단위 em 은 요소에 지정된 상속된 사이즈나 기본 사이즈에 대해 상대적인 사이즈를 설정한다. 즉, 상속의 영향으로 사이즈가 의도치않게 변경될 수 있는데 이를 예방하기 위해 HTML 최상위 요소의 사이즈를 기준으로 삼는 크기 단위는 무엇인가?"
   ]
  },
  {
   "cell_type": "code",
   "execution_count": null,
   "metadata": {},
   "outputs": [],
   "source": []
  },
  {
   "cell_type": "markdown",
   "metadata": {},
   "source": [
    "#### 4. 다음 예제를 통해 \"후손 셀렉터\"와 \"자식 셀렉터\"의 차이를 설명하시오.\n",
    "\n",
    "```html\n",
    "<!-- 후손셀렉터 -->\n",
    "div p {\n",
    "    color: crimson;\n",
    "    }\n",
    "<!-- 자식셀렉터 -->\n",
    "div > p {\n",
    "    color: crimson;\n",
    "    }\n",
    "```"
   ]
  },
  {
   "cell_type": "code",
   "execution_count": null,
   "metadata": {},
   "outputs": [],
   "source": []
  }
 ],
 "metadata": {
  "kernelspec": {
   "display_name": "Python 3",
   "language": "python",
   "name": "python3"
  },
  "language_info": {
   "codemirror_mode": {
    "name": "ipython",
    "version": 3
   },
   "file_extension": ".py",
   "mimetype": "text/x-python",
   "name": "python",
   "nbconvert_exporter": "python",
   "pygments_lexer": "ipython3",
   "version": "3.6.7"
  }
 },
 "nbformat": 4,
 "nbformat_minor": 2
}
