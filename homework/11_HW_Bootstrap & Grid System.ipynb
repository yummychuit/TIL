{
 "cells": [
  {
   "cell_type": "markdown",
   "metadata": {},
   "source": [
    "#### 1. 다음은 부트스트랩의 어떤 component 이며 아래와 같이 만들려면 어떤 class 를 주어야 하는가."
   ]
  },
  {
   "cell_type": "code",
   "execution_count": null,
   "metadata": {},
   "outputs": [],
   "source": [
    "buttons component\n",
    "<button type=\"button\" class=\"btn btn-danger\">Danger</button>"
   ]
  },
  {
   "cell_type": "markdown",
   "metadata": {},
   "source": [
    "#### 2. 다음은 부트스트랩의 어떤 component 이며 아래와 동일하게 만들어 보시오. "
   ]
  },
  {
   "cell_type": "code",
   "execution_count": null,
   "metadata": {},
   "outputs": [],
   "source": [
    "alerts component\n",
    "<div class=\"alert alert-info\" role=\"alert\">\n",
    "Hello SSAFY ?!\n",
    "</div>"
   ]
  },
  {
   "cell_type": "markdown",
   "metadata": {},
   "source": [
    "#### 3. 다음 빈칸을 채우시오. “부트스트랩 그리드 시스템은 레이아웃을 (       ) 개의 column 으로, (     ) 개의 반응형 사이즈 조건을 사용하여 구축한다.”"
   ]
  },
  {
   "cell_type": "code",
   "execution_count": null,
   "metadata": {},
   "outputs": [],
   "source": [
    "12, 4"
   ]
  },
  {
   "cell_type": "markdown",
   "metadata": {},
   "source": [
    "#### 4. 아래와 같은 분할을 grid system 을 활용하여 만들어 보시오."
   ]
  },
  {
   "cell_type": "code",
   "execution_count": null,
   "metadata": {},
   "outputs": [],
   "source": [
    "<div class=\"container\">\n",
    "        <div class=\"row\">\n",
    "            <div class=\"col-md-3\">25%</div>\n",
    "            <div class=\"col-md-6\">50%</div>\n",
    "            <div class=\"col-md-3\">25%</div>\n",
    "        </div>\n",
    "</div>"
   ]
  }
 ],
 "metadata": {
  "kernelspec": {
   "display_name": "Python 3",
   "language": "python",
   "name": "python3"
  },
  "language_info": {
   "codemirror_mode": {
    "name": "ipython",
    "version": 3
   },
   "file_extension": ".py",
   "mimetype": "text/x-python",
   "name": "python",
   "nbconvert_exporter": "python",
   "pygments_lexer": "ipython3",
   "version": "3.6.7"
  }
 },
 "nbformat": 4,
 "nbformat_minor": 2
}
