{
 "cells": [
  {
   "cell_type": "code",
   "execution_count": 5,
   "metadata": {},
   "outputs": [
    {
     "name": "stdout",
     "output_type": "stream",
     "text": [
      "Hi! my name is Minjoo.\n",
      "Hi! my birthday is 1125.\n",
      "Hi! my phone is 01011110000.\n",
      "Hi! my email is kim@ssafy.com.\n",
      "None\n",
      "{'candy': 8, 'phone': 1, 'card': 2}\n"
     ]
    }
   ],
   "source": [
    "\n",
    "my_info = {\n",
    "'name': 'Minjoo',\n",
    "'birthday': '1125',\n",
    "'phone': '01011110000',\n",
    "'email': 'kim@ssafy.com'\n",
    "}\n",
    "\n",
    "in_pocket = {\n",
    "'candy': 3,\n",
    "'phone': 1,\n",
    "'card': 2\n",
    "}\n",
    "\n",
    "def greeting(info):\n",
    "    all = []\n",
    "    for i, j in info.items():\n",
    "        all[i] = j\n",
    "        \n",
    "        \n",
    "        \n",
    "def in_my_pocket(pocket, stuff, num):\n",
    "    if pocket.get(stuff):\n",
    "        pocket[stuff] += num\n",
    "    else:\n",
    "        pocket[stuff] = num\n",
    "    return pocket\n",
    "\n",
    "print(greeting(my_info))\n",
    "\n",
    "print(in_my_pocket(in_pocket, 'candy', 5))"
   ]
  },
  {
   "cell_type": "code",
   "execution_count": 15,
   "metadata": {},
   "outputs": [
    {
     "name": "stdout",
     "output_type": "stream",
     "text": [
      "50\n"
     ]
    }
   ],
   "source": [
    "# maximum = my_max(10, 20, 30, 50)\n",
    "# print(maximum) #50\n",
    "\n",
    "def my_max(*nums):\n",
    "    biggest = nums[0]\n",
    "    for num in nums:\n",
    "        if biggest < num:\n",
    "            biggest = num\n",
    "    return biggest\n",
    "\n",
    "maximum = my_max(10, 20, 30, 50)\n",
    "print(maximum)"
   ]
  },
  {
   "cell_type": "code",
   "execution_count": 16,
   "metadata": {},
   "outputs": [
    {
     "data": {
      "text/plain": [
       "[2, 3, 3, 3, 3, 2, 2]"
      ]
     },
     "execution_count": 16,
     "metadata": {},
     "output_type": "execute_result"
    }
   ],
   "source": [
    "def rm_in_list(l, target):\n",
    "    for tar in range(l.count(target)):\n",
    "        l.remove(target)\n",
    "    return l\n",
    "rm_in_list([1, 2, 3, 3, 3,3 ,2 ,1, 2], 1)"
   ]
  },
  {
   "cell_type": "code",
   "execution_count": 23,
   "metadata": {},
   "outputs": [
    {
     "name": "stdout",
     "output_type": "stream",
     "text": [
      "[('justin', 'jane'), ('justin', 'iu'), ('justin', 'mary'), ('david', 'jane'), ('david', 'iu'), ('david', 'mary'), ('kim', 'jane'), ('kim', 'iu'), ('kim', 'mary')]\n"
     ]
    }
   ],
   "source": [
    "girls = ['jane', 'iu', 'mary']\n",
    "boys = ['justin', 'david', 'kim']\n",
    "\n",
    "pair = []\n",
    "for boy in boys:\n",
    "    for girl in girls:\n",
    "        p = (boy, girl)\n",
    "        pair.append(p)\n",
    "print(pair)\n",
    "        \n"
   ]
  },
  {
   "cell_type": "code",
   "execution_count": 31,
   "metadata": {
    "scrolled": true
   },
   "outputs": [
    {
     "name": "stdout",
     "output_type": "stream",
     "text": [
      "[(3, 4, 5), (5, 12, 13), (6, 8, 10), (7, 24, 25), (8, 15, 17), (9, 12, 15), (9, 40, 41), (10, 24, 26), (12, 16, 20), (12, 35, 37), (15, 20, 25), (15, 36, 39), (16, 30, 34), (18, 24, 30), (20, 21, 29), (21, 28, 35), (24, 32, 40), (27, 36, 45)]\n"
     ]
    }
   ],
   "source": [
    "#(x < y < z < 50) 내에서 피타고라스 방정식의 해를 찾아보세요.\n",
    "\n",
    "result = []\n",
    "for x in range(1, 50):\n",
    "    for y in range(x, 50):\n",
    "        for z in range(y, 50):\n",
    "            if x ** 2 + y ** 2 == z ** 2:\n",
    "                result.append((x, y, z))\n",
    "print(result)"
   ]
  },
  {
   "cell_type": "markdown",
   "metadata": {},
   "source": [
    "다음의 문장에서 모음(a, e, i, o, u)를 모두 제거하시오.\n",
    "\n",
    "list comprehension만 사용해보세요.\n",
    "    words = 'Life is too short, you need python!'\n",
    "\n",
    "    예시출력)\n",
    "    Lf s t shrt, y nd pythn!"
   ]
  },
  {
   "cell_type": "code",
   "execution_count": 44,
   "metadata": {},
   "outputs": [
    {
     "name": "stdout",
     "output_type": "stream",
     "text": [
      "['L', 'f', ' ', 's', ' ', 't', ' ', 's', 'h', 'r', 't', ',', ' ', 'y', ' ', 'n', 'd', ' ', 'p', 'y', 't', 'h', 'n', '!']\n",
      "Lf s t shrt, y nd pythn!\n"
     ]
    }
   ],
   "source": [
    "words = 'Life is too short, you need python!'\n",
    "except_word = 'aeiouAEIOU'\n",
    "result = [word for word in words if word not in except_word]    \n",
    "print(result)\n",
    "print(''.join(result))"
   ]
  },
  {
   "cell_type": "code",
   "execution_count": 45,
   "metadata": {},
   "outputs": [
    {
     "name": "stdout",
     "output_type": "stream",
     "text": [
      "{'seoul': 103, 'beijing': 500}\n"
     ]
    }
   ],
   "source": [
    "#아래에서 미세먼지 농도가 80 초과인 지역만 뽑!!\n",
    "dusts = { 'seoul': 103, 'kyungki': 79, 'daejeon': 36, 'beijing': 500 }\n",
    "\n",
    "       \n",
    "result = {city:dust for city, dust in dusts.items() if dust > 80}\n",
    "print(result)"
   ]
  },
  {
   "cell_type": "code",
   "execution_count": 46,
   "metadata": {},
   "outputs": [
    {
     "name": "stdout",
     "output_type": "stream",
     "text": [
      "{'seoul': '나쁨', 'kyungki': '안나쁨', 'daejeon': '안나쁨', 'beijing': '나쁨'}\n"
     ]
    }
   ],
   "source": [
    "# 80 초과면 나쁨 / 아니면 안나쁨\n",
    "re = {city: '나쁨' if dust > 80 else '안나쁨' for city, dust in dusts.items()}\n",
    "print(re)"
   ]
  },
  {
   "cell_type": "code",
   "execution_count": null,
   "metadata": {},
   "outputs": [],
   "source": []
  }
 ],
 "metadata": {
  "kernelspec": {
   "display_name": "Python 3",
   "language": "python",
   "name": "python3"
  },
  "language_info": {
   "codemirror_mode": {
    "name": "ipython",
    "version": 3
   },
   "file_extension": ".py",
   "mimetype": "text/x-python",
   "name": "python",
   "nbconvert_exporter": "python",
   "pygments_lexer": "ipython3",
   "version": "3.7.1"
  }
 },
 "nbformat": 4,
 "nbformat_minor": 2
}
